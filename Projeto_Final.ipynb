{
  "nbformat": 4,
  "nbformat_minor": 0,
  "metadata": {
    "colab": {
      "name": "Projeto Final.ipynb",
      "provenance": [],
      "collapsed_sections": [],
      "authorship_tag": "ABX9TyMbgXjkGy1eHhdG7112p7yu"
    },
    "kernelspec": {
      "name": "python3",
      "display_name": "Python 3"
    },
    "language_info": {
      "name": "python"
    }
  },
  "cells": [
    {
      "cell_type": "code",
      "execution_count": 1,
      "metadata": {
        "id": "O3-XiSdTSIEv"
      },
      "outputs": [],
      "source": [
        "import tensorflow\n",
        "from tensorflow import keras\n",
        "import matplotlib.pyplot as plt\n",
        "import numpy as np\n",
        "import tensorflow_hub as hub\n",
        "from tensorflow.keras.preprocessing.image import ImageDataGenerator"
      ]
    },
    {
      "cell_type": "code",
      "source": [
        "#https://drive.google.com/drive/folders/1Cq8lxEXY5TCCyI8r5YrNiVAuUc1KlRqe?usp=sharing\n",
        "\n",
        "from google.colab import drive\n",
        "drive.mount('/content/drive')\n",
        "\n",
        "data_root='/content/drive/My Drive/data_set_flowers/'"
      ],
      "metadata": {
        "colab": {
          "base_uri": "https://localhost:8080/"
        },
        "id": "GZVP6CFwSpX1",
        "outputId": "0e683674-dcbe-40f5-a16d-e86ab047ace3"
      },
      "execution_count": 2,
      "outputs": [
        {
          "output_type": "stream",
          "name": "stdout",
          "text": [
            "Mounted at /content/drive\n"
          ]
        }
      ]
    },
    {
      "cell_type": "code",
      "source": [
        "#separa as imagens em treino, teste e validação.\n",
        "TRAINING_DATA_DIR = str(data_root+'flowers_train')#recebe as flores de treino\n",
        "TEST_DATA_DIR = str(data_root+'flowers_test')#recebe as flores de teste\n",
        "IMAGE_SHAPE = (200,200)#o tamanho das imagens são 200x200\n",
        "datagen_kwargs = dict(rescale=1./255, validation_split=.20)#faço a reescala das imagens em 255, e validação de 20%, ai os dados de:\n",
        "valid_datagen = ImageDataGenerator(**datagen_kwargs)#validação\n",
        "train_datagen = ImageDataGenerator(**datagen_kwargs)#treino\n",
        "test_datagen = ImageDataGenerator(**datagen_kwargs)#teste"
      ],
      "metadata": {
        "id": "yVsbI1hLSpaJ"
      },
      "execution_count": 3,
      "outputs": []
    },
    {
      "cell_type": "code",
      "source": [
        "valid_generator = valid_datagen.flow_from_directory(#pego a partir do diretório do drive\n",
        "    TRAINING_DATA_DIR,#passo o caminho da pasta\n",
        "    subset=\"validation\",#passo o conjunto de validação(20% atribuido anteriormente)\n",
        "    shuffle=True,#embaralha\n",
        "    target_size=IMAGE_SHAPE,#tamanho da imagem\n",
        "    classes = ['daisy', 'dandelion', 'rose']#as tres possíveis classes\n",
        ")\n",
        "\n",
        "test_generator = test_datagen.flow_from_directory(\n",
        "    TEST_DATA_DIR,\n",
        "    target_size=IMAGE_SHAPE,\n",
        "    classes = ['daisy', 'dandelion', 'rose']\n",
        ")\n",
        "\n",
        "train_generator = train_datagen.flow_from_directory(\n",
        "    TRAINING_DATA_DIR,\n",
        "    subset=\"training\",\n",
        "    shuffle=True,\n",
        "    target_size=IMAGE_SHAPE,\n",
        "    classes = ['daisy', 'dandelion', 'rose']\n",
        ")"
      ],
      "metadata": {
        "colab": {
          "base_uri": "https://localhost:8080/"
        },
        "id": "JqVpXtfrSpdK",
        "outputId": "f1e5578f-7c0c-4ca1-c561-0141f61dc548"
      },
      "execution_count": 4,
      "outputs": [
        {
          "output_type": "stream",
          "name": "stdout",
          "text": [
            "Found 405 images belonging to 3 classes.\n",
            "Found 574 images belonging to 3 classes.\n",
            "Found 1626 images belonging to 3 classes.\n"
          ]
        }
      ]
    },
    {
      "cell_type": "code",
      "source": [
        "modelo = keras.Sequential([keras.layers.Flatten(input_shape=(200, 200, 3)),#cada imagem 200x200 com padrão RGB\n",
        "keras.layers.Dense(256, activation=tensorflow.nn.relu),\n",
        "keras.layers.Dense(128, activation=tensorflow.nn.relu),\n",
        "keras.layers.Dense(train_generator.num_classes, activation='softmax')#saida\n",
        "])\n",
        "\n",
        "#compila o modelo \n",
        "modelo.compile(\n",
        "optimizer='Adam',\n",
        "loss='categorical_crossentropy',\n",
        "metrics=['acc'])"
      ],
      "metadata": {
        "id": "DSr6vXcLSprN"
      },
      "execution_count": 5,
      "outputs": []
    },
    {
      "cell_type": "code",
      "source": [
        "#passos, quantos passos por epoca\n",
        "steps_per_epoch = np.ceil(train_generator.samples/train_generator.batch_size)\n",
        "#validações por época\n",
        "val_steps_per_epoch = np.ceil(valid_generator.samples/valid_generator.batch_size)\n",
        "\n",
        "hist = modelo.fit(\n",
        "train_generator,#recebe os dados de train_generator\n",
        "epochs=10,#10 epocas\n",
        "verbose=1,#imprime\n",
        "steps_per_epoch=steps_per_epoch,#espaços por época\n",
        "validation_data=valid_generator,#dados de validação que ele vai receber\n",
        "validation_steps=val_steps_per_epoch).history #validação por época"
      ],
      "metadata": {
        "colab": {
          "base_uri": "https://localhost:8080/"
        },
        "id": "MLt-EGA1SpuL",
        "outputId": "212aec39-3e5e-465b-f267-e2decb286da8"
      },
      "execution_count": 6,
      "outputs": [
        {
          "output_type": "stream",
          "name": "stdout",
          "text": [
            "Epoch 1/10\n",
            "51/51 [==============================] - 343s 7s/step - loss: 14.8276 - acc: 0.4323 - val_loss: 2.6395 - val_acc: 0.5580\n",
            "Epoch 2/10\n",
            "51/51 [==============================] - 18s 342ms/step - loss: 2.5317 - acc: 0.5117 - val_loss: 3.1216 - val_acc: 0.5012\n",
            "Epoch 3/10\n",
            "51/51 [==============================] - 18s 347ms/step - loss: 2.7167 - acc: 0.5025 - val_loss: 1.2858 - val_acc: 0.6025\n",
            "Epoch 4/10\n",
            "51/51 [==============================] - 18s 343ms/step - loss: 1.3839 - acc: 0.5935 - val_loss: 2.0801 - val_acc: 0.4370\n",
            "Epoch 5/10\n",
            "51/51 [==============================] - 18s 345ms/step - loss: 1.2519 - acc: 0.6070 - val_loss: 1.6957 - val_acc: 0.5457\n",
            "Epoch 6/10\n",
            "51/51 [==============================] - 18s 350ms/step - loss: 1.1039 - acc: 0.6513 - val_loss: 1.5334 - val_acc: 0.5259\n",
            "Epoch 7/10\n",
            "51/51 [==============================] - 18s 348ms/step - loss: 0.7318 - acc: 0.7140 - val_loss: 1.6867 - val_acc: 0.5432\n",
            "Epoch 8/10\n",
            "51/51 [==============================] - 18s 344ms/step - loss: 0.7952 - acc: 0.6753 - val_loss: 1.5718 - val_acc: 0.5481\n",
            "Epoch 9/10\n",
            "51/51 [==============================] - 18s 348ms/step - loss: 1.0369 - acc: 0.6353 - val_loss: 1.2847 - val_acc: 0.5753\n",
            "Epoch 10/10\n",
            "51/51 [==============================] - 18s 353ms/step - loss: 0.5884 - acc: 0.7497 - val_loss: 1.0988 - val_acc: 0.5827\n"
          ]
        }
      ]
    },
    {
      "cell_type": "code",
      "source": [
        "#salva o modelo\n",
        "SAVED_MODEL = \"/content/drive/My Drive/data_set_flowers/saved_models\"\n",
        "modelo.save(SAVED_MODEL)\n",
        "model = keras.models.load_model(SAVED_MODEL)"
      ],
      "metadata": {
        "colab": {
          "base_uri": "https://localhost:8080/"
        },
        "id": "pZYfDyp7Spzb",
        "outputId": "0a2a8176-ad1f-4949-e533-0e8774da1ec7"
      },
      "execution_count": 7,
      "outputs": [
        {
          "output_type": "stream",
          "name": "stdout",
          "text": [
            "INFO:tensorflow:Assets written to: /content/drive/My Drive/data_set_flowers/saved_models/assets\n"
          ]
        }
      ]
    },
    {
      "cell_type": "code",
      "source": [
        "val_image_batch, val_label_batch = next(iter(test_generator))#separo novamente os batch, recebendo os test_generator\n",
        "true_label_ids = np.argmax(val_label_batch, axis=-1)#valores dos labels verdadeiros\n",
        "print(\"Validation batch shape:\", val_image_batch.shape)#imprime o shape de validação"
      ],
      "metadata": {
        "colab": {
          "base_uri": "https://localhost:8080/"
        },
        "id": "COzA3xHaTL9D",
        "outputId": "c89b726b-c203-4a54-c02b-e9c23dc97b24"
      },
      "execution_count": 8,
      "outputs": [
        {
          "output_type": "stream",
          "name": "stdout",
          "text": [
            "Validation batch shape: (32, 200, 200, 3)\n"
          ]
        }
      ]
    },
    {
      "cell_type": "code",
      "source": [
        "model.predict(val_image_batch)#faz o predict do val_image_batch"
      ],
      "metadata": {
        "colab": {
          "base_uri": "https://localhost:8080/"
        },
        "id": "cEo0hM_XTMC5",
        "outputId": "163f0fb6-bc3e-44b2-9903-12308cfb10b6"
      },
      "execution_count": 9,
      "outputs": [
        {
          "output_type": "execute_result",
          "data": {
            "text/plain": [
              "array([[6.5224546e-01, 3.3990496e-01, 7.8495573e-03],\n",
              "       [5.8927196e-01, 1.9925936e-01, 2.1146865e-01],\n",
              "       [2.9268894e-01, 6.4380413e-01, 6.3506939e-02],\n",
              "       [1.2969038e-01, 1.9643307e-02, 8.5066634e-01],\n",
              "       [2.4734399e-01, 4.6304733e-01, 2.8960869e-01],\n",
              "       [9.9507755e-01, 4.8944387e-03, 2.8022650e-05],\n",
              "       [2.1209891e-01, 7.8221136e-01, 5.6897211e-03],\n",
              "       [4.4066179e-01, 5.4081696e-01, 1.8521182e-02],\n",
              "       [9.2145878e-01, 7.5647302e-02, 2.8939305e-03],\n",
              "       [7.0518410e-01, 2.7458498e-01, 2.0230846e-02],\n",
              "       [5.7060969e-01, 1.7650302e-01, 2.5288728e-01],\n",
              "       [4.2078400e-01, 5.1797843e-01, 6.1237633e-02],\n",
              "       [2.3039397e-02, 1.6812226e-02, 9.6014839e-01],\n",
              "       [4.8526555e-01, 5.1427996e-01, 4.5441845e-04],\n",
              "       [6.3483006e-01, 3.5702470e-01, 8.1452597e-03],\n",
              "       [9.5902465e-02, 8.0561763e-01, 9.8479897e-02],\n",
              "       [2.0894091e-01, 7.4278659e-01, 4.8272520e-02],\n",
              "       [1.2196152e-04, 4.4298307e-05, 9.9983370e-01],\n",
              "       [3.6971964e-04, 3.8282519e-06, 9.9962640e-01],\n",
              "       [9.7844124e-01, 2.0981373e-02, 5.7739730e-04],\n",
              "       [1.9199455e-02, 7.6047704e-02, 9.0475285e-01],\n",
              "       [3.5396658e-03, 9.9530703e-01, 1.1532584e-03],\n",
              "       [3.8084704e-01, 6.1681736e-01, 2.3356262e-03],\n",
              "       [6.3485289e-01, 2.6724732e-01, 9.7899809e-02],\n",
              "       [5.0620615e-01, 4.7215509e-01, 2.1638738e-02],\n",
              "       [9.3074858e-02, 9.0616679e-01, 7.5831829e-04],\n",
              "       [6.8336707e-01, 1.6759031e-01, 1.4904265e-01],\n",
              "       [3.6879343e-01, 6.0736364e-01, 2.3842856e-02],\n",
              "       [4.2212400e-01, 5.4606307e-01, 3.1812955e-02],\n",
              "       [3.1284347e-01, 6.5192205e-01, 3.5234530e-02],\n",
              "       [5.3154176e-01, 4.6521741e-01, 3.2408226e-03],\n",
              "       [1.0266770e-03, 3.9772937e-04, 9.9857557e-01]], dtype=float32)"
            ]
          },
          "metadata": {},
          "execution_count": 9
        }
      ]
    },
    {
      "cell_type": "code",
      "source": [
        "#aqui carrego o modelo e peço para avaliar\n",
        "#passando os dados das imagens e as classes\n",
        "perda_teste, acuracia_teste=model.evaluate(val_image_batch, val_label_batch)\n",
        "print('Perda do teste', perda_teste)#imprimo as perdas\n",
        "print('Acurácia do teste', acuracia_teste)#imprimo as acurácias"
      ],
      "metadata": {
        "colab": {
          "base_uri": "https://localhost:8080/"
        },
        "id": "DaUkMmvbSp1k",
        "outputId": "bfeedcf6-ee85-43fe-a438-55df16eb97fc"
      },
      "execution_count": 10,
      "outputs": [
        {
          "output_type": "stream",
          "name": "stdout",
          "text": [
            "1/1 [==============================] - 0s 172ms/step - loss: 0.9951 - acc: 0.5938\n",
            "Perda do teste 0.9950731992721558\n",
            "Acurácia do teste 0.59375\n"
          ]
        }
      ]
    }
  ]
}